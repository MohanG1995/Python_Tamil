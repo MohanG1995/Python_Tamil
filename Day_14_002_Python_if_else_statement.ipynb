{
 "cells": [
  {
   "cell_type": "markdown",
   "metadata": {},
   "source": [
    "# Python `if-else` statement\n",
    "\n",
    "It is likely that we will want the program to do something even when an if statement **evaluates to false**. In our grade example of previous tutorial, we will want output whether the grade is passing or failing."
   ]
  },
  {
   "cell_type": "markdown",
   "metadata": {},
   "source": [
    "The **`if-else`** statement checks the condition and executes the **`if`** block of code when the condition is **`True`**, and **`if`** the condition is **`False`**, it will execute the **`else`** block of code."
   ]
  },
  {
   "cell_type": "markdown",
   "metadata": {},
   "source": [
    "### Syntax :\n",
    "\n",
    "```python\n",
    "if condition:\n",
    "    statement 1\n",
    "else:\n",
    "    statement 2\n",
    "```\n",
    "\n",
    "1. The **`if..else`** statement evaluates **`condition`** and will execute the body of **`if`** only when the test condition is **`True`**.\n",
    "\n",
    "2. If the condition is **`False`**, the body of **`else`** is executed. Indentation is used to separate the blocks.\n",
    "\n",
    "<div>\n",
    "<img src=\"img/ife0.png\" width=\"300\"/>\n",
    "</div>\n",
    "\n",
    "To do this, we will add an else statement to the grade condition above that is constructed like this:\n",
    "\n",
    "```python\n",
    ">>> grade = 60   \n",
    ">>> if grade >= 65:\n",
    ">>>     print(\"Passing grade\")\n",
    ">>> else:\n",
    ">>>     print(\"Failing grade\")\n",
    "\n",
    "Failing grade\n",
    "```\n",
    "\n",
    "Since the grade variable above has the value of 60, the if statement evaluates as false, so the program will not print out Passing grade. The else statement that follows tells the program to do **something anyway**.\n",
    "\n",
    "If we then rewrite the program to give the grade a value of 65 or higher, we will instead receive the output Passing grade."
   ]
  },
  {
   "cell_type": "code",
   "execution_count": 1,
   "metadata": {},
   "outputs": [
    {
     "name": "stdout",
     "output_type": "stream",
     "text": [
      "enter the int number: 3\n",
      "its a poisitive\n"
     ]
    }
   ],
   "source": [
    "num = int(input(\"enter the int number: \"))\n",
    "if num >=0:\n",
    "    print(\"its a poisitive\")\n",
    "else:\n",
    "    print(\"its a negative\")"
   ]
  },
  {
   "cell_type": "code",
   "execution_count": 2,
   "metadata": {},
   "outputs": [
    {
     "name": "stdout",
     "output_type": "stream",
     "text": [
      "enter the int number: -7\n",
      "its a negative\n"
     ]
    }
   ],
   "source": [
    "num = int(input(\"enter the int number: \"))\n",
    "if num >=0:\n",
    "    print(\"its a poisitive\")\n",
    "else:\n",
    "    print(\"its a negative\")"
   ]
  },
  {
   "cell_type": "code",
   "execution_count": 3,
   "metadata": {},
   "outputs": [
    {
     "name": "stdout",
     "output_type": "stream",
     "text": [
      "enter the int number: 0\n",
      "its a poisitive\n"
     ]
    }
   ],
   "source": [
    "num = int(input(\"enter the int number: \"))\n",
    "if num >=0:\n",
    "    print(\"its a poisitive\")\n",
    "else:\n",
    "    print(\"its a negative\")"
   ]
  },
  {
   "cell_type": "code",
   "execution_count": null,
   "metadata": {},
   "outputs": [],
   "source": [
    "num = int(input(\"enter the int number: \"))\n",
    "if num >=0:\n",
    "    print(\"its a poisitive or zero\")\n",
    "else:\n",
    "    print(\"its a negative\")"
   ]
  },
  {
   "cell_type": "code",
   "execution_count": 4,
   "metadata": {},
   "outputs": [
    {
     "name": "stdout",
     "output_type": "stream",
     "text": [
      "num2 is greater\n"
     ]
    }
   ],
   "source": [
    "num1, num2 = 6,8\n",
    "if num1 > num2:\n",
    "    print (\"num1 is greater\")\n",
    "else:\n",
    "    print(\"num2 is greater\")"
   ]
  },
  {
   "cell_type": "code",
   "execution_count": null,
   "metadata": {},
   "outputs": [],
   "source": []
  },
  {
   "cell_type": "code",
   "execution_count": null,
   "metadata": {},
   "outputs": [],
   "source": []
  },
  {
   "cell_type": "markdown",
   "metadata": {},
   "source": [
    "## 💻 Exercises  ➞ <span class='label label-default'>List</span>\n",
    "\n",
    "1.  Get user input using **`input(“Enter your age: ”)`**. If user is 18 or older, give feedback: **`You are old enough to drive`**. If below 18 give feedback to **`wait for the missing amount of years`**. \n",
    "\n",
    "Output:\n",
    "\n",
    "```py\n",
    "    Enter your age: 30\n",
    "    You are old enough to learn to drive.\n",
    "    Output:\n",
    "    Enter your age: 15\n",
    "    You need 3 more years to learn to drive.\n",
    "```\n",
    "\n",
    "2.  Compare the values of my_age and your_age using **`if-else`**. Who is older (me or you)? Use **`input(“Enter your age: ”)`** to get the age as input. You can use a nested condition to print **`'year'`** for 1 year difference in age, **`'years'`** for bigger differences, and a custom text if **`my_age = your_age`**. \n",
    "\n",
    "Output:\n",
    "\n",
    "```py\n",
    "    Enter your age: 30\n",
    "    You are 5 years older than me.\n",
    "```"
   ]
  },
  {
   "cell_type": "code",
   "execution_count": null,
   "metadata": {},
   "outputs": [],
   "source": []
  }
 ],
 "metadata": {
  "hide_input": false,
  "kernelspec": {
   "display_name": "Python 3 (ipykernel)",
   "language": "python",
   "name": "python3"
  },
  "language_info": {
   "codemirror_mode": {
    "name": "ipython",
    "version": 3
   },
   "file_extension": ".py",
   "mimetype": "text/x-python",
   "name": "python",
   "nbconvert_exporter": "python",
   "pygments_lexer": "ipython3",
   "version": "3.9.13"
  },
  "toc": {
   "base_numbering": 1,
   "nav_menu": {},
   "number_sections": true,
   "sideBar": true,
   "skip_h1_title": false,
   "title_cell": "Table of Contents",
   "title_sidebar": "Contents",
   "toc_cell": false,
   "toc_position": {},
   "toc_section_display": true,
   "toc_window_display": false
  },
  "varInspector": {
   "cols": {
    "lenName": 16,
    "lenType": 16,
    "lenVar": 40
   },
   "kernels_config": {
    "python": {
     "delete_cmd_postfix": "",
     "delete_cmd_prefix": "del ",
     "library": "var_list.py",
     "varRefreshCmd": "print(var_dic_list())"
    },
    "r": {
     "delete_cmd_postfix": ") ",
     "delete_cmd_prefix": "rm(",
     "library": "var_list.r",
     "varRefreshCmd": "cat(var_dic_list()) "
    }
   },
   "types_to_exclude": [
    "module",
    "function",
    "builtin_function_or_method",
    "instance",
    "_Feature"
   ],
   "window_display": false
  }
 },
 "nbformat": 4,
 "nbformat_minor": 2
}
