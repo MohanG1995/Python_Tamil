{
 "cells": [
  {
   "cell_type": "markdown",
   "metadata": {},
   "source": [
    "## Global Variables Across Python Modules\n",
    "\n",
    "In Python, we create a single module **config.py** to hold global variables and share information across Python modules within the same program.\n",
    "\n",
    "Here is how we can share global variables across the python modules."
   ]
  },
  {
   "cell_type": "markdown",
   "metadata": {},
   "source": [
    "### Example : Share a global Variable Across Python Modules\n",
    "\n",
    "Create a **config.py** file, to store global variables\n",
    "\n",
    "```python\n",
    ">>> a = 0\n",
    ">>> b = \"empty\"\n",
    "```\n",
    "\n",
    "Create a **update.py** file, to change global variables\n",
    "\n",
    "```python\n",
    ">>> import config  # import config.py here\n",
    "\n",
    ">>> config.a = 10  # change the value of 'a' from 0 to 10\n",
    ">>> config.b = \"alphabet\"  # change the value of 'b' from \"empty\" to \"alphabet\"\n",
    "```\n",
    "\n",
    "Create a **main1.py** file, to test changes in value\n",
    "\n",
    "```python\n",
    ">>> import config  # import config.py here\n",
    ">>> import update  # import update.py here\n",
    "\n",
    ">>> print(config.a)  # print the updated value of 'a'\n",
    ">>> print(config.b)  # print the updated value of 'b'\n",
    "```\n",
    "\n",
    "When we run the **main.py** file, the output will be\n",
    "\n",
    "`\n",
    "10\n",
    "alphabet\n",
    "`\n",
    "\n",
    "In the above, we have created three files: **config.py**, **update.py**, and **main.py**.\n",
    "\n",
    "The module **config.py** stores global variables of **`a`** and **`b`**. In the **update.py** file, we import the **config.py** module and modify the values of **`a`** and **`b`**. Similarly, in the **main.py** file, we import both **config.py** and **update.py** module. Finally, we print and test the values of global variables whether they are changed or not."
   ]
  },
  {
   "cell_type": "code",
   "execution_count": 1,
   "metadata": {},
   "outputs": [],
   "source": [
    "import ajan\n",
    "from ajan import fun"
   ]
  },
  {
   "cell_type": "code",
   "execution_count": 2,
   "metadata": {},
   "outputs": [
    {
     "name": "stdout",
     "output_type": "stream",
     "text": [
      "something here inside the function\n"
     ]
    }
   ],
   "source": [
    "fun()"
   ]
  },
  {
   "cell_type": "code",
   "execution_count": 7,
   "metadata": {},
   "outputs": [
    {
     "name": "stdout",
     "output_type": "stream",
     "text": [
      "Requirement already satisfied: import-ipynb in c:\\users\\ajantha\\anaconda3\\lib\\site-packages (0.1.4)\n",
      "Requirement already satisfied: nbformat in c:\\users\\ajantha\\anaconda3\\lib\\site-packages (from import-ipynb) (5.5.0)\n",
      "Requirement already satisfied: IPython in c:\\users\\ajantha\\anaconda3\\lib\\site-packages (from import-ipynb) (7.31.1)\n",
      "Requirement already satisfied: jedi>=0.16 in c:\\users\\ajantha\\anaconda3\\lib\\site-packages (from IPython->import-ipynb) (0.18.1)\n",
      "Requirement already satisfied: traitlets>=4.2 in c:\\users\\ajantha\\anaconda3\\lib\\site-packages (from IPython->import-ipynb) (5.1.1)\n",
      "Requirement already satisfied: backcall in c:\\users\\ajantha\\anaconda3\\lib\\site-packages (from IPython->import-ipynb) (0.2.0)\n",
      "Requirement already satisfied: prompt-toolkit!=3.0.0,!=3.0.1,<3.1.0,>=2.0.0 in c:\\users\\ajantha\\anaconda3\\lib\\site-packages (from IPython->import-ipynb) (3.0.20)\n",
      "Requirement already satisfied: setuptools>=18.5 in c:\\users\\ajantha\\anaconda3\\lib\\site-packages (from IPython->import-ipynb) (63.4.1)\n",
      "Requirement already satisfied: pygments in c:\\users\\ajantha\\anaconda3\\lib\\site-packages (from IPython->import-ipynb) (2.11.2)\n",
      "Requirement already satisfied: pickleshare in c:\\users\\ajantha\\anaconda3\\lib\\site-packages (from IPython->import-ipynb) (0.7.5)\n",
      "Requirement already satisfied: decorator in c:\\users\\ajantha\\anaconda3\\lib\\site-packages (from IPython->import-ipynb) (5.1.1)\n",
      "Requirement already satisfied: matplotlib-inline in c:\\users\\ajantha\\anaconda3\\lib\\site-packages (from IPython->import-ipynb) (0.1.6)\n",
      "Requirement already satisfied: colorama in c:\\users\\ajantha\\anaconda3\\lib\\site-packages (from IPython->import-ipynb) (0.4.6)\n",
      "Requirement already satisfied: fastjsonschema in c:\\users\\ajantha\\anaconda3\\lib\\site-packages (from nbformat->import-ipynb) (2.16.2)\n",
      "Requirement already satisfied: jupyter_core in c:\\users\\ajantha\\anaconda3\\lib\\site-packages (from nbformat->import-ipynb) (4.11.1)\n",
      "Requirement already satisfied: jsonschema>=2.6 in c:\\users\\ajantha\\anaconda3\\lib\\site-packages (from nbformat->import-ipynb) (4.16.0)\n",
      "Requirement already satisfied: parso<0.9.0,>=0.8.0 in c:\\users\\ajantha\\anaconda3\\lib\\site-packages (from jedi>=0.16->IPython->import-ipynb) (0.8.3)\n",
      "Requirement already satisfied: pyrsistent!=0.17.0,!=0.17.1,!=0.17.2,>=0.14.0 in c:\\users\\ajantha\\anaconda3\\lib\\site-packages (from jsonschema>=2.6->nbformat->import-ipynb) (0.18.0)\n",
      "Requirement already satisfied: attrs>=17.4.0 in c:\\users\\ajantha\\anaconda3\\lib\\site-packages (from jsonschema>=2.6->nbformat->import-ipynb) (21.4.0)\n",
      "Requirement already satisfied: wcwidth in c:\\users\\ajantha\\anaconda3\\lib\\site-packages (from prompt-toolkit!=3.0.0,!=3.0.1,<3.1.0,>=2.0.0->IPython->import-ipynb) (0.2.5)\n",
      "Requirement already satisfied: pywin32>=1.0 in c:\\users\\ajantha\\anaconda3\\lib\\site-packages (from jupyter_core->nbformat->import-ipynb) (302)\n",
      "Note: you may need to restart the kernel to use updated packages.\n"
     ]
    }
   ],
   "source": [
    "pip install import-ipynb"
   ]
  },
  {
   "cell_type": "code",
   "execution_count": 8,
   "metadata": {},
   "outputs": [],
   "source": [
    "import import_ipynb"
   ]
  },
  {
   "cell_type": "code",
   "execution_count": 9,
   "metadata": {},
   "outputs": [
    {
     "name": "stdout",
     "output_type": "stream",
     "text": [
      "importing Jupyter notebook from first.ipynb\n"
     ]
    }
   ],
   "source": [
    "from first import *"
   ]
  },
  {
   "cell_type": "code",
   "execution_count": 10,
   "metadata": {},
   "outputs": [
    {
     "name": "stdout",
     "output_type": "stream",
     "text": [
      "True\n"
     ]
    }
   ],
   "source": [
    "a,b = 10,10\n",
    "print(equal1(a,b))"
   ]
  },
  {
   "cell_type": "code",
   "execution_count": null,
   "metadata": {},
   "outputs": [],
   "source": [
    "a,b = 12,10"
   ]
  }
 ],
 "metadata": {
  "hide_input": false,
  "kernelspec": {
   "display_name": "Python 3 (ipykernel)",
   "language": "python",
   "name": "python3"
  },
  "language_info": {
   "codemirror_mode": {
    "name": "ipython",
    "version": 3
   },
   "file_extension": ".py",
   "mimetype": "text/x-python",
   "name": "python",
   "nbconvert_exporter": "python",
   "pygments_lexer": "ipython3",
   "version": "3.9.13"
  },
  "toc": {
   "base_numbering": 1,
   "nav_menu": {},
   "number_sections": true,
   "sideBar": true,
   "skip_h1_title": false,
   "title_cell": "Table of Contents",
   "title_sidebar": "Contents",
   "toc_cell": false,
   "toc_position": {},
   "toc_section_display": true,
   "toc_window_display": false
  },
  "varInspector": {
   "cols": {
    "lenName": 16,
    "lenType": 16,
    "lenVar": 40
   },
   "kernels_config": {
    "python": {
     "delete_cmd_postfix": "",
     "delete_cmd_prefix": "del ",
     "library": "var_list.py",
     "varRefreshCmd": "print(var_dic_list())"
    },
    "r": {
     "delete_cmd_postfix": ") ",
     "delete_cmd_prefix": "rm(",
     "library": "var_list.r",
     "varRefreshCmd": "cat(var_dic_list()) "
    }
   },
   "types_to_exclude": [
    "module",
    "function",
    "builtin_function_or_method",
    "instance",
    "_Feature"
   ],
   "window_display": false
  }
 },
 "nbformat": 4,
 "nbformat_minor": 2
}
